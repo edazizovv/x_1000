{
 "cells": [
  {
   "cell_type": "code",
   "execution_count": 2,
   "id": "424605fa",
   "metadata": {},
   "outputs": [],
   "source": [
    "import random\n",
    "\n",
    "import numpy\n",
    "import pandas\n",
    "from sklearn.model_selection import train_test_split\n",
    "\n",
    "from x_1000.skeleton import X1010\n",
    "\n",
    "rs = 999\n",
    "random.seed(rs)\n",
    "numpy.random.seed(rs)"
   ]
  },
  {
   "cell_type": "code",
   "execution_count": 3,
   "id": "b643b422",
   "metadata": {},
   "outputs": [],
   "source": [
    "data = pandas.read_csv('./data/house_price_data.csv')\n",
    "data = data.set_index('No')\n",
    "data = data.dropna()\n",
    "data['constant'] = 1"
   ]
  },
  {
   "cell_type": "code",
   "execution_count": 4,
   "id": "043c385b",
   "metadata": {},
   "outputs": [],
   "source": [
    "# x_exclusions = []\n",
    "# x_exclusions = ['constant', 'X5 latitude', 'X6 longitude', 'X1 transaction date']\n",
    "# x_exclusions = ['constant', 'X5 latitude', 'X1 transaction date', 'X4 number of convenience stores']\n",
    "# x_exclusions = ['constant', 'X5 latitude', 'X1 transaction date', 'X3 distance to the nearest MRT station']\n",
    "x_exclusions = ['X5 latitude', 'X1 transaction date', 'X3 distance to the nearest MRT station']"
   ]
  },
  {
   "cell_type": "code",
   "execution_count": 5,
   "id": "ea3648b8",
   "metadata": {},
   "outputs": [],
   "source": [
    "target = 'Y house price of unit area'\n",
    "x_factors = [x for x in data.columns if x not in x_exclusions + [target]]\n",
    "x, y = data[x_factors].values, data[target].values\n",
    "\n",
    "test_size = 0.5\n",
    "x_train, x_test, y_train, y_test = train_test_split(x, y, test_size=test_size, random_state=rs)"
   ]
  },
  {
   "cell_type": "code",
   "execution_count": 6,
   "id": "0197985e",
   "metadata": {},
   "outputs": [],
   "source": [
    "ammo = X1010()\n",
    "\n",
    "# https://www.statsmodels.org/devel/generated/statsmodels.regression.linear_model.OLSResults.get_robustcov_results.html\n",
    "\n",
    "model_name = 'OLS'\n",
    "model_kwargs = {'cov_type': 'nonrobust'}\n",
    "# model_kwargs = {'cov_type': 'HC3'}\n",
    "# model_kwargs = {'cov_type': 'HAC', 'cov_kwds': {'maxlags': 1}}\n",
    "\n",
    "\n",
    "# model_name = 'WLS'\n",
    "# model_kwargs = {}\n",
    "# model_kwargs = {'weights_finder': 'fitted_resids'}\n",
    "# model_kwargs = {'weights_finder': 'abs(err)'}"
   ]
  },
  {
   "cell_type": "code",
   "execution_count": null,
   "id": "6da890cb",
   "metadata": {},
   "outputs": [],
   "source": [
    "'''\n",
    "Available methods:\n",
    "\n",
    "diagnosed.values() returns:\n",
    "        > multicollinearity: condition number\n",
    "        > multicollinearity: Pearson: correlated pairs\n",
    "        > multicollinearity: Pearson: correlation matrix\n",
    "        > multicollinearity: Kendall Tau: correlated pairs\n",
    "        > multicollinearity: Kendall Tau: correlation matrix\n",
    "        > multicollinearity: VIF: estimations\n",
    "        > multicollinearity: VIF: models built [TBD]\n",
    "diagnosed.summary() prints:\n",
    "        Multicollinearity:\n",
    "            -- condition number\n",
    "            -- Pearson & Kendall Tau correlated pairs (including significance)\n",
    "            -- VIF estimations\n",
    "diagnosed.plot() plots:\n",
    "        > multicollinearity: Pearson & Kendall Tau correlation matrices colorized\n",
    "\n",
    "\n",
    "fitted.values() returns:\n",
    "        model coefficients (starting with intercept)\n",
    "fitted.summary() prints:\n",
    "        model formula\n",
    "fitted.plot() is not implemented\n",
    "\n",
    "\n",
    "assessed.values() returns:\n",
    "        Summary tables and tests:\n",
    "            Summary table 1:\n",
    "                > linear specification adequacy: aggregated - h0, n passed, significance thresh\n",
    "                > error terms' distribution\n",
    "                    -- zero-mean: aggregated - h0, n passed, significance thresh\n",
    "                    -- normality: aggregated - h0, n passed, significance thresh\n",
    "                    -- homoskedasticity: aggregated - h0, n passed, significance thresh\n",
    "                    -- absence of autocorrelation: h0, value, thresh rule\n",
    "            Summary table 2:\n",
    "                > individual significance: h0, factor name, pvalue\n",
    "                > overall model significance: h0, model, pvalue\n",
    "            All tests' original classes\n",
    "            All significance values\n",
    "        Linear Specification test\n",
    "        Zero Mean test\n",
    "        Normality tests\n",
    "        Homoskedasticity tests\n",
    "        Autocorrelation test\n",
    "        Individual factor significance\n",
    "        Group factor significance\n",
    "assessed.summary() prints:\n",
    "        Part 1:\n",
    "            > linear specification adequacy: aggregated - h0, n passed, significance thresh\n",
    "            > error terms' distribution\n",
    "                -- zero-mean: aggregated - h0, n passed, significance thresh\n",
    "                -- normality: aggregated - h0, n passed, significance thresh\n",
    "                -- homoskedasticity: aggregated - h0, n passed, significance thresh\n",
    "                -- absence of autocorrelation: h0, value, thresh rule\n",
    "        Part 2:\n",
    "            > individual significance: h0, factor name, pvalue\n",
    "            > overall model significance: h0, model, pvalue\n",
    "assessed.plot() plots:\n",
    "        > y: errors // x: n_ob; bounded by outlier border\n",
    "        > hist: y; bounded by outlier border\n",
    "        > hist: errors; bounded by outlier border\n",
    "        > influence/outlier plot\n",
    "        > y: errors // x: y; bounded by outlier borders for each\n",
    "\n",
    "measured.values() returns:\n",
    "    dataframe with the summary\n",
    "measured.summary() prints:\n",
    "    estimated values for:\n",
    "        NSE (standardized MSE, actually R2), higher is better\n",
    "        NAE (standardized MAE), higher is better\n",
    "        SMAPE, lower is better\n",
    "measured.plot() is not implemented\n",
    "'''"
   ]
  },
  {
   "cell_type": "code",
   "execution_count": null,
   "id": "102f5cac",
   "metadata": {},
   "outputs": [],
   "source": [
    "diagnosed = ammo.diagnose(x=x, y=y, model_code=model_name, x_factors=x_factors, model_kwargs=model_kwargs)\n"
   ]
  },
  {
   "cell_type": "code",
   "execution_count": null,
   "id": "ed211f5e",
   "metadata": {},
   "outputs": [],
   "source": []
  },
  {
   "cell_type": "code",
   "execution_count": null,
   "id": "0a783db0",
   "metadata": {},
   "outputs": [],
   "source": [
    "fitted = ammo.fit(x=x, y=y, model_code=model_name, x_factors=x_factors, model_kwargs=model_kwargs)\n"
   ]
  },
  {
   "cell_type": "code",
   "execution_count": null,
   "id": "e87d2270",
   "metadata": {},
   "outputs": [],
   "source": []
  },
  {
   "cell_type": "code",
   "execution_count": null,
   "id": "4f73caa7",
   "metadata": {},
   "outputs": [],
   "source": [
    "assessed = ammo.assess(x=x, y=y, model=fitted.model, x_factors=x_factors)\n"
   ]
  },
  {
   "cell_type": "code",
   "execution_count": null,
   "id": "113a1cb2",
   "metadata": {},
   "outputs": [],
   "source": []
  },
  {
   "cell_type": "code",
   "execution_count": null,
   "id": "bfd73d85",
   "metadata": {},
   "outputs": [],
   "source": [
    "measured = ammo.measure(x=x, y=y, model=fitted.model)\n"
   ]
  },
  {
   "cell_type": "code",
   "execution_count": null,
   "id": "c09f1c0b",
   "metadata": {},
   "outputs": [],
   "source": []
  }
 ],
 "metadata": {
  "kernelspec": {
   "display_name": "Python 3 (ipykernel)",
   "language": "python",
   "name": "python3"
  },
  "language_info": {
   "codemirror_mode": {
    "name": "ipython",
    "version": 3
   },
   "file_extension": ".py",
   "mimetype": "text/x-python",
   "name": "python",
   "nbconvert_exporter": "python",
   "pygments_lexer": "ipython3",
   "version": "3.10.10"
  }
 },
 "nbformat": 4,
 "nbformat_minor": 5
}
